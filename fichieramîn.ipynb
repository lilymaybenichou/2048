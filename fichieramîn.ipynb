{
 "cells": [
  {
   "cell_type": "code",
<<<<<<< HEAD
   "execution_count": 1,
=======
   "execution_count": 53,
>>>>>>> f66a8ad1e14dee641d4926743f0f244479aace52
   "metadata": {},
   "outputs": [
    {
     "name": "stderr",
     "output_type": "stream",
     "text": [
      "Exception in Tkinter callback\n",
      "Traceback (most recent call last):\n",
      "  File \"c:\\Users\\algme\\Desktop\\lib\\tkinter\\__init__.py\", line 1921, in __call__\n",
      "    return self.func(*args)\n",
      "  File \"C:\\Users\\algme\\AppData\\Local\\Temp\\ipykernel_34236\\4055900159.py\", line 13, in play\n",
      "    c=random.randint(0,6)\n",
      "AttributeError: 'builtin_function_or_method' object has no attribute 'randint'\n"
     ]
    }
   ],
   "source": [
    "import tkinter as tk\n",
    "from tkinter import filedialog\n",
    "from tkinter import simpledialog\n",
    "import numpy as np\n",
    "from random import*\n",
    "\n",
    "tableau = np.array([[0, 0, 0, 0], [0, 0, 0, 0],[0, 0, 0, 0],[0, 0, 0, 0]])\n",
    "\n",
    "def fermer_fenetre():\n",
    "    fenetre.destroy()\n",
    "\n",
    "def play():\n",
    "    c=random.randint(0,6)\n",
    "    r=random.randint(0,7)\n",
    "    c1=tk.Label(fenetre,text=\"2\",bg=\"black\")\n",
    "    c1.grid(row=c,column=r)\n",
    "\n",
    "fenetre=tk.Tk()\n",
    "fenetre.title(\"Jeu du 2048\")\n",
    "fenetre.geometry('700x600')\n",
    "fenetre['bg']='#FFC584'\n",
    "\n",
    "zonaffi=tk.Label(fenetre,text=\"°\",bg=\"#FFC584\")\n",
    "zonaffi.grid(row=0,column=0)\n",
    "zonaffi=tk.Label(fenetre,text=\"°\",bg=\"#FFC584\")\n",
    "zonaffi.grid(row=0,column=0)\n",
    "zonaffi3=tk.Label(fenetre,text=\"°\",bg=\"#FFC584\")\n",
    "zonaffi3.grid(row=0,column=7)\n",
    "\n",
    "canevas1=tk.Canvas(width=100,height=100,bg=\"#FCE6CC\")\n",
    "canevas1.grid(row=4,column=3)\n",
    "canevas2=tk.Canvas(width=100,height=100,bg=\"#FCE6CC\")\n",
    "canevas2.grid(row=4,column=4)\n",
    "canevas2=tk.Canvas(width=100,height=100,bg=\"#FCE6CC\")\n",
    "canevas2.grid(row=4,column=5)\n",
    "canevas4=tk.Canvas(width=100,height=100,bg=\"#FCE6CC\")\n",
    "canevas4.grid(row=4,column=6)\n",
    "canevas5=tk.Canvas(width=100,height=100,bg=\"#FCE6CC\")\n",
    "canevas5.grid(row=5,column=3)\n",
    "canevas6=tk.Canvas(width=100,height=100,bg=\"#FCE6CC\")\n",
    "canevas6.grid(row=5,column=4)\n",
    "canevas7=tk.Canvas(width=100,height=100,bg=\"#FCE6CC\")\n",
    "canevas7.grid(row=5,column=5)\n",
    "canevas8=tk.Canvas(width=100,height=100,bg=\"#FCE6CC\")\n",
    "canevas8.grid(row=5,column=6)\n",
    "canevas9=tk.Canvas(width=100,height=100,bg=\"#FCE6CC\")\n",
    "canevas9.grid(row=6,column=3)\n",
    "canevas10=tk.Canvas(width=100,height=100,bg=\"#FCE6CC\")\n",
    "canevas10.grid(row=6,column=4)\n",
    "canevas11=tk.Canvas(width=100,height=100,bg=\"#FCE6CC\")\n",
    "canevas11.grid(row=6,column=5)\n",
    "canevas12=tk.Canvas(width=100,height=100,bg=\"#FCE6CC\")\n",
    "canevas12.grid(row=6,column=6)\n",
    "canevas13=tk.Canvas(width=100,height=100,bg=\"#FCE6CC\")\n",
    "canevas13.grid(row=7,column=3)\n",
    "canevas14=tk.Canvas(width=100,height=100,bg=\"#FCE6CC\")\n",
    "canevas14.grid(row=7,column=4)\n",
    "canevas15=tk.Canvas(width=100,height=100,bg=\"#FCE6CC\")\n",
    "canevas15.grid(row=7,column=5)\n",
    "canevas16=tk.Canvas(width=100,height=100,bg=\"#FCE6CC\")\n",
    "canevas16.grid(row=7,column=6)\n",
    "\n",
    "bouton1=tk.Button(fenetre,text='Play',height=2,width=5,bg='#DCF024',command=play)\n",
    "bouton1.grid(row=1,column=1)\n",
    "bouton2=tk.Button(fenetre,text='Left',height=2,width=5,bg='#7FF3B9')\n",
    "bouton2.grid(row=2,column=8)\n",
    "bouton3=tk.Button(fenetre,text='Right',height=2,width=5,bg='#7FF3B9')\n",
    "bouton3.grid(row=2,column=10)\n",
    "bouton4=tk.Button(fenetre,text='Down',height=2,width=5,bg='#7FF3B9')\n",
    "bouton4.grid(row=3,column=9)\n",
    "bouton5=tk.Button(fenetre,text='Up',height=2,width=5,bg='#7FF3B9')\n",
    "bouton5.grid(row=1,column=9)\n",
    "bouton6=tk.Button(fenetre,text='Exit',height=2,width=5,bg='#F02424',command=fermer_fenetre)\n",
    "bouton6.grid(row=1,column=2)\n",
    "\n",
    "fenetre.mainloop()"
   ]
  },
  {
   "cell_type": "code",
   "execution_count": null,
   "metadata": {},
   "outputs": [],
   "source": []
  }
 ],
 "metadata": {
  "kernelspec": {
   "display_name": "Python 3",
   "language": "python",
   "name": "python3"
  },
  "language_info": {
   "codemirror_mode": {
    "name": "ipython",
    "version": 3
   },
   "file_extension": ".py",
   "mimetype": "text/x-python",
   "name": "python",
   "nbconvert_exporter": "python",
   "pygments_lexer": "ipython3",
   "version": "3.10.7"
  },
  "orig_nbformat": 4,
  "vscode": {
   "interpreter": {
    "hash": "b3ba29420135426bd37987c9c700b661c64dc047808b869b1f8e8894c7419870"
   }
  }
 },
 "nbformat": 4,
 "nbformat_minor": 2
}
