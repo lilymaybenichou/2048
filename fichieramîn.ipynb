{
 "cells": [
  {
   "cell_type": "code",
   "execution_count": 6,
   "metadata": {},
   "outputs": [
    {
     "ename": "ModuleNotFoundError",
     "evalue": "No module named 'numpy'",
     "output_type": "error",
     "traceback": [
      "\u001b[1;31m---------------------------------------------------------------------------\u001b[0m",
      "\u001b[1;31mModuleNotFoundError\u001b[0m                       Traceback (most recent call last)",
      "\u001b[1;32mc:\\Users\\algme\\gitProjects\\2048-1\\fichieramîn.ipynb Cell 1\u001b[0m in \u001b[0;36m4\n\u001b[0;32m      <a href='vscode-notebook-cell:/c%3A/Users/algme/gitProjects/2048-1/fichieram%C3%AEn.ipynb#W0sZmlsZQ%3D%3D?line=1'>2</a>\u001b[0m \u001b[39mfrom\u001b[39;00m \u001b[39mtkinter\u001b[39;00m \u001b[39mimport\u001b[39;00m filedialog\n\u001b[0;32m      <a href='vscode-notebook-cell:/c%3A/Users/algme/gitProjects/2048-1/fichieram%C3%AEn.ipynb#W0sZmlsZQ%3D%3D?line=2'>3</a>\u001b[0m \u001b[39mfrom\u001b[39;00m \u001b[39mtkinter\u001b[39;00m \u001b[39mimport\u001b[39;00m simpledialog\n\u001b[1;32m----> <a href='vscode-notebook-cell:/c%3A/Users/algme/gitProjects/2048-1/fichieram%C3%AEn.ipynb#W0sZmlsZQ%3D%3D?line=3'>4</a>\u001b[0m \u001b[39mimport\u001b[39;00m \u001b[39mnumpy\u001b[39;00m \u001b[39mas\u001b[39;00m \u001b[39mnp\u001b[39;00m\n\u001b[0;32m      <a href='vscode-notebook-cell:/c%3A/Users/algme/gitProjects/2048-1/fichieram%C3%AEn.ipynb#W0sZmlsZQ%3D%3D?line=6'>7</a>\u001b[0m \u001b[39mdef\u001b[39;00m \u001b[39mfermer_fenetre\u001b[39m():\n\u001b[0;32m      <a href='vscode-notebook-cell:/c%3A/Users/algme/gitProjects/2048-1/fichieram%C3%AEn.ipynb#W0sZmlsZQ%3D%3D?line=7'>8</a>\u001b[0m     fenetre\u001b[39m.\u001b[39mdestroy()\n",
      "\u001b[1;31mModuleNotFoundError\u001b[0m: No module named 'numpy'"
     ]
    }
   ],
   "source": [
    "import tkinter as tk\n",
    "from tkinter import filedialog\n",
    "from tkinter import simpledialog\n",
    "import numpy as np\n",
    "\n",
    "\n",
    "def fermer_fenetre():\n",
    "    fenetre.destroy()\n",
    "\n",
    "fenetre=tk.Tk()\n",
    "fenetre.title(\"Jeu du 2048\")\n",
    "fenetre.geometry('700x500')\n",
    "fenetre['bg']='purple'\n",
    "\n",
    "zoneaffi=tk.Label(fenetre,text=\"Jeu du 2048\",bg=\"red\",fg=\"black\")\n",
    "zoneaffi.grid(row=0,column=2)\n",
    "bouton=tk.Button(command=fermer_fenetre(),bg=\"red\",fg=\"white\",text=\"Quitter\")\n",
    "bouton.grid(row=1,column=0)\n",
    "canevas=tk.Canvas(width=100,height=100,bg=\"white\")\n",
    "canevas.grid(row=1,column=1)\n",
    "canevas=tk.Canvas(width=100,height=100,bg=\"white\")\n",
    "canevas.grid(row=1,column=2)\n",
    "canevas=tk.Canvas(width=100,height=100,bg=\"white\")\n",
    "canevas.grid(row=1,column=3)\n",
    "canevas=tk.Canvas(width=100,height=100,bg=\"white\")\n",
    "canevas.grid(row=1,column=4)\n",
    "canevas=tk.Canvas(width=100,height=100,bg=\"white\")\n",
    "canevas.grid(row=2,column=1)\n",
    "canevas=tk.Canvas(width=100,height=100,bg=\"white\")\n",
    "canevas.grid(row=2,column=2)\n",
    "canevas=tk.Canvas(width=100,height=100,bg=\"white\")\n",
    "canevas.grid(row=2,column=3)\n",
    "canevas=tk.Canvas(width=100,height=100,bg=\"white\")\n",
    "canevas.grid(row=2,column=4)\n",
    "canevas=tk.Canvas(width=100,height=100,bg=\"white\")\n",
    "canevas.grid(row=3,column=1)\n",
    "canevas=tk.Canvas(width=100,height=100,bg=\"white\")\n",
    "canevas.grid(row=3,column=2)\n",
    "canevas=tk.Canvas(width=100,height=100,bg=\"white\")\n",
    "canevas.grid(row=3,column=3)\n",
    "canevas=tk.Canvas(width=100,height=100,bg=\"white\")\n",
    "canevas.grid(row=3,column=4)\n",
    "canevas=tk.Canvas(width=100,height=100,bg=\"white\")\n",
    "canevas.grid(row=4,column=1)\n",
    "canevas=tk.Canvas(width=100,height=100,bg=\"white\")\n",
    "canevas.grid(row=4,column=2)\n",
    "canevas=tk.Canvas(width=100,height=100,bg=\"white\")\n",
    "canevas.grid(row=4,column=3)\n",
    "canevas=tk.Canvas(width=100,height=100,bg=\"white\")\n",
    "canevas.grid(row=4,column=4)\n",
    "fenetre.mainloop()"
   ]
  },
  {
   "cell_type": "code",
   "execution_count": null,
   "metadata": {},
   "outputs": [],
   "source": []
  }
 ],
 "metadata": {
  "kernelspec": {
   "display_name": "Python 3",
   "language": "python",
   "name": "python3"
  },
  "language_info": {
   "codemirror_mode": {
    "name": "ipython",
    "version": 3
   },
   "file_extension": ".py",
   "mimetype": "text/x-python",
   "name": "python",
   "nbconvert_exporter": "python",
   "pygments_lexer": "ipython3",
   "version": "3.10.9"
  },
  "orig_nbformat": 4,
  "vscode": {
   "interpreter": {
    "hash": "b3ba29420135426bd37987c9c700b661c64dc047808b869b1f8e8894c7419870"
   }
  }
 },
 "nbformat": 4,
 "nbformat_minor": 2
}
